{
 "cells": [
  {
   "cell_type": "markdown",
   "id": "20b5919c-33e1-466c-b6fe-4c42da63c6a2",
   "metadata": {
    "jp-MarkdownHeadingCollapsed": true
   },
   "source": [
    "### Ch_4-基本语法"
   ]
  },
  {
   "cell_type": "code",
   "execution_count": 5,
   "id": "9db95c4e-3b07-4aed-be8a-4cbc97c134e5",
   "metadata": {},
   "outputs": [],
   "source": [
    "import numpy as np"
   ]
  },
  {
   "cell_type": "code",
   "execution_count": 11,
   "id": "52874bc5-47db-4b7c-9385-6a2ca7ff9ba5",
   "metadata": {},
   "outputs": [],
   "source": [
    "x_array = np.arange(10)\n",
    "#使用Numpy库中的函数numpy.arange(),创建了一个名为x_array的数组，包含0-9的10个整数"
   ]
  },
  {
   "cell_type": "code",
   "execution_count": 13,
   "id": "d42d9877-5505-4bcb-b312-7716824d5546",
   "metadata": {},
   "outputs": [
    {
     "name": "stdout",
     "output_type": "stream",
     "text": [
      "[0 1 2 3 4 5 6 7 8 9]\n"
     ]
    }
   ],
   "source": [
    "print(x_array)"
   ]
  },
  {
   "cell_type": "code",
   "execution_count": 20,
   "id": "caac943e-2085-4833-a931-f63837ca4e5c",
   "metadata": {},
   "outputs": [
    {
     "name": "stdout",
     "output_type": "stream",
     "text": [
      "9\n"
     ]
    }
   ],
   "source": [
    "def my_function(x,y): #注意这里的冒号：\n",
    "\n",
    "    return x+y\n",
    "print(my_function(2,7))"
   ]
  },
  {
   "cell_type": "code",
   "execution_count": 24,
   "id": "51cd97f9-bbcd-4644-b411-37a2914e8919",
   "metadata": {},
   "outputs": [
    {
     "name": "stdout",
     "output_type": "stream",
     "text": [
      "P\n",
      "y\n",
      "t\n",
      "h\n",
      "o\n",
      "n\n",
      " \n",
      "i\n",
      "s\n",
      " \n",
      "F\n",
      "U\n",
      "N\n",
      "!\n"
     ]
    }
   ],
   "source": [
    "x_string = 'Python is FUN!'\n",
    "for i_str in x_string:\n",
    "    print(i_str)"
   ]
  },
  {
   "cell_type": "code",
   "execution_count": 34,
   "id": "03a2f491-c1ac-4da3-a399-d1ca156d62af",
   "metadata": {},
   "outputs": [
    {
     "name": "stdout",
     "output_type": "stream",
     "text": [
      "23\n"
     ]
    }
   ],
   "source": [
    "a=[1,2,3,4]  #列表，内容可修改\n",
    "a[2] = 23\n",
    "print(a[2])"
   ]
  },
  {
   "cell_type": "code",
   "execution_count": 33,
   "id": "f2076ef3-5a43-4902-81b7-c5b4174f7e00",
   "metadata": {},
   "outputs": [
    {
     "ename": "TypeError",
     "evalue": "'tuple' object does not support item assignment",
     "output_type": "error",
     "traceback": [
      "\u001b[1;31m---------------------------------------------------------------------------\u001b[0m",
      "\u001b[1;31mTypeError\u001b[0m                                 Traceback (most recent call last)",
      "Cell \u001b[1;32mIn[33], line 2\u001b[0m\n\u001b[0;32m      1\u001b[0m a \u001b[38;5;241m=\u001b[39m (\u001b[38;5;241m1\u001b[39m,\u001b[38;5;241m2\u001b[39m,\u001b[38;5;241m3\u001b[39m,\u001b[38;5;241m4\u001b[39m) \u001b[38;5;66;03m#元组，内容不可修改\u001b[39;00m\n\u001b[1;32m----> 2\u001b[0m a[\u001b[38;5;241m2\u001b[39m] \u001b[38;5;241m=\u001b[39m \u001b[38;5;241m11\u001b[39m\n\u001b[0;32m      3\u001b[0m \u001b[38;5;28mprint\u001b[39m(a[\u001b[38;5;241m2\u001b[39m])\n",
      "\u001b[1;31mTypeError\u001b[0m: 'tuple' object does not support item assignment"
     ]
    }
   ],
   "source": [
    "a = (1,2,3,4) #元组，内容不可修改\n",
    "a[2] = 11\n",
    "print(a[2])"
   ]
  },
  {
   "cell_type": "code",
   "execution_count": 40,
   "id": "647e0e7f-f8d3-4a2f-8885-bed053a44b43",
   "metadata": {},
   "outputs": [
    {
     "name": "stdout",
     "output_type": "stream",
     "text": [
      "Tom\n",
      "18\n"
     ]
    }
   ],
   "source": [
    "g = {'name':'Tom', 'age':18}\n",
    "print(g['name'])\n",
    "print(g['age'])"
   ]
  },
  {
   "cell_type": "markdown",
   "id": "682841bd-145d-4e64-9ff0-880d2105ef38",
   "metadata": {
    "jp-MarkdownHeadingCollapsed": true
   },
   "source": [
    "### Ch_5(1-3)-数据类型及输出"
   ]
  },
  {
   "cell_type": "code",
   "execution_count": 1,
   "id": "cbabf150-b58b-45c6-9ec0-b99e21d75a38",
   "metadata": {},
   "outputs": [
    {
     "name": "stdout",
     "output_type": "stream",
     "text": [
      "<class 'int'>\n",
      "<class 'float'>\n",
      "<class 'complex'>\n"
     ]
    }
   ],
   "source": [
    "x=4\n",
    "y=2.58\n",
    "z=5+5j\n",
    "print(type(x))\n",
    "print(type(y))\n",
    "print(type(z))"
   ]
  },
  {
   "cell_type": "code",
   "execution_count": 3,
   "id": "cc97f5f7-33ca-43e8-b9e1-b148aa52ec70",
   "metadata": {},
   "outputs": [
    {
     "name": "stdout",
     "output_type": "stream",
     "text": [
      "2\n"
     ]
    }
   ],
   "source": [
    "print(int(y))#强制类型转换"
   ]
  },
  {
   "cell_type": "code",
   "execution_count": 4,
   "id": "2cf683b3-4e01-44d5-a93e-fbac052bcbbf",
   "metadata": {},
   "outputs": [
    {
     "name": "stdout",
     "output_type": "stream",
     "text": [
      "4\n"
     ]
    }
   ],
   "source": [
    "print(str(x))"
   ]
  },
  {
   "cell_type": "code",
   "execution_count": 5,
   "id": "7e60d0d0-81dd-45c4-8353-d88879c0e2ad",
   "metadata": {},
   "outputs": [
    {
     "name": "stdout",
     "output_type": "stream",
     "text": [
      "3.141592653589793\n",
      "2.718281828459045\n",
      "1.4142135623730951\n"
     ]
    }
   ],
   "source": [
    "import math\n",
    "print(math.pi)\n",
    "print(math.e)\n",
    "print(math.sqrt(2))"
   ]
  },
  {
   "cell_type": "code",
   "execution_count": 7,
   "id": "978e5ed5-0e62-4202-93e8-378ff2de6acc",
   "metadata": {},
   "outputs": [
    {
     "name": "stdout",
     "output_type": "stream",
     "text": [
      "I am learning Python 101!\n",
      "Python is fun!\n",
      "HeyJack\n",
      "HeyJackHeyJackHeyJack\n",
      "123123123\n",
      "<class 'str'>\n"
     ]
    }
   ],
   "source": [
    "str1 =  'I am learning Python 101!'\n",
    "print(str1)\n",
    "str2 = 'Python is fun!'\n",
    "print(str2)\n",
    "str3 = 'Hey' + 'Jack'\n",
    "print(str3)\n",
    "str4 = str3*3\n",
    "print(str4)\n",
    "str5 = '123'\n",
    "print(str5*3)\n",
    "print(type(str5))"
   ]
  },
  {
   "cell_type": "code",
   "execution_count": 10,
   "id": "8190c886-f476-456e-876f-3b0820e390f3",
   "metadata": {},
   "outputs": [
    {
     "name": "stdout",
     "output_type": "stream",
     "text": [
      "25\n",
      "3\n"
     ]
    }
   ],
   "source": [
    "print(len(str1))\n",
    "print(len(str5))"
   ]
  },
  {
   "cell_type": "code",
   "execution_count": 2,
   "id": "d4d292c7-d144-4a83-880c-7d40fdf99878",
   "metadata": {},
   "outputs": [
    {
     "name": "stdout",
     "output_type": "stream",
     "text": [
      "字符串长度为：\n",
      "10\n"
     ]
    }
   ],
   "source": [
    "greeting_str = 'Hey, Jack!'\n",
    "print('字符串长度为：')\n",
    "print(len(greeting_str))"
   ]
  },
  {
   "cell_type": "code",
   "execution_count": 3,
   "id": "be44b263-10d5-4e26-8a51-9d4fefd2e4f0",
   "metadata": {},
   "outputs": [
    {
     "name": "stdout",
     "output_type": "stream",
     "text": [
      "字符：H,索引：0\n",
      "字符：e,索引：1\n",
      "字符：y,索引：2\n",
      "字符：,,索引：3\n",
      "字符： ,索引：4\n",
      "字符：J,索引：5\n",
      "字符：a,索引：6\n",
      "字符：c,索引：7\n",
      "字符：k,索引：8\n",
      "字符：!,索引：9\n"
     ]
    }
   ],
   "source": [
    "for index, char in enumerate(greeting_str):\n",
    "    print(f\"字符：{char},索引：{index}\")"
   ]
  },
  {
   "cell_type": "code",
   "execution_count": 4,
   "id": "2674ee61-cdc1-49dc-b831-e48599637544",
   "metadata": {},
   "outputs": [
    {
     "name": "stdout",
     "output_type": "stream",
     "text": [
      "H\n"
     ]
    }
   ],
   "source": [
    "print(greeting_str[0]) #索引"
   ]
  },
  {
   "cell_type": "code",
   "execution_count": 5,
   "id": "a92d8293-ae46-4b24-b15f-473717cff7bc",
   "metadata": {},
   "outputs": [
    {
     "name": "stdout",
     "output_type": "stream",
     "text": [
      "!\n"
     ]
    }
   ],
   "source": [
    "print(greeting_str[-1])#索引"
   ]
  },
  {
   "cell_type": "code",
   "execution_count": 7,
   "id": "8dd8010f-4102-4bfe-aaca-361b9a59a5e4",
   "metadata": {},
   "outputs": [
    {
     "name": "stdout",
     "output_type": "stream",
     "text": [
      "He\n"
     ]
    }
   ],
   "source": [
    "print(greeting_str[0:2])#切片操作，注意“左闭右开”"
   ]
  },
  {
   "cell_type": "code",
   "execution_count": 8,
   "id": "96f53df3-65f8-4709-8ef6-804129d4f041",
   "metadata": {},
   "outputs": [
    {
     "name": "stdout",
     "output_type": "stream",
     "text": [
      "H,a!\n"
     ]
    }
   ],
   "source": [
    "print(greeting_str[::3])"
   ]
  },
  {
   "cell_type": "code",
   "execution_count": 9,
   "id": "2ad33447-7a0d-4e8f-9ac8-b3544361775d",
   "metadata": {},
   "outputs": [
    {
     "name": "stdout",
     "output_type": "stream",
     "text": [
      "!kcaJ ,yeH\n"
     ]
    }
   ],
   "source": [
    "print(greeting_str[::-1])"
   ]
  },
  {
   "cell_type": "code",
   "execution_count": 28,
   "id": "fbf85f83-2284-45cf-92fa-cdcbc4c8801f",
   "metadata": {},
   "outputs": [
    {
     "name": "stdout",
     "output_type": "stream",
     "text": [
      "Jack has a height of 176.5 cm\n",
      "Jack has a height of 176.500 cm\n",
      "Jack has a height of 176.500 cm\n",
      "Jack has a height of 176.500 cm.\n",
      "Jack has a height of 176.500 cm.\n"
     ]
    }
   ],
   "source": [
    "name = 'Jack'\n",
    "height = 176.5\n",
    "str_1 = name + ' has a height of ' + str(height) + ' cm' #使用str()直接转换成字符串后进行‘+’拼接\n",
    "print(str_1)\n",
    "str_2 = '%s has a height of %.3f cm' %(name, height) #使用‘%’字符串占位符,'.3f'表示保留三位小数\n",
    "print(str_2)\n",
    "print('%s has a height of %.3f cm' %(name, height))\n",
    "str_3 = '{} has a height of {:.3f} cm.'.format(name,height)\n",
    "print(str_3)\n",
    "str_4 = f'{name} has a height of {height:.3f} cm.'#使用f-strings\n",
    "print(str_4)"
   ]
  },
  {
   "cell_type": "code",
   "execution_count": 29,
   "id": "1a0f7c95-152f-4fed-ac9b-1ed298155393",
   "metadata": {},
   "outputs": [
    {
     "name": "stdout",
     "output_type": "stream",
     "text": [
      "The color of apple is Red, and the color of banana is yollow\n",
      "The color of apple is yollow, and the color of banana is yollow\n"
     ]
    }
   ],
   "source": [
    "apple_color = 'Red'\n",
    "banana_color = 'yollow'\n",
    "apple_weight = 5.688\n",
    "print('The color of apple is {0}, and the color of banana is {1}'.format(apple_color, banana_color)) #占位符\"{}\"中的数字表示填充format()里的第几个元素\n",
    "print('The color of apple is {1}, and the color of banana is {1}'.format(apple_color, banana_color)) #占位符\"{}\"中的数字表示填充format()里的第几个元素"
   ]
  },
  {
   "cell_type": "code",
   "execution_count": 30,
   "id": "b85ea04d-6556-466d-926d-7f698f28cce8",
   "metadata": {},
   "outputs": [
    {
     "name": "stdout",
     "output_type": "stream",
     "text": [
      "The color of apple is Red, and it's weight is 5.69\n"
     ]
    }
   ],
   "source": [
    "print('The color of apple is {0}, and it\\'s weight is {1:.2f}'.format(apple_color, apple_weight))"
   ]
  },
  {
   "cell_type": "code",
   "execution_count": 31,
   "id": "de038f9e-5f92-45f2-9a0c-54a8fbee10db",
   "metadata": {},
   "outputs": [
    {
     "name": "stdout",
     "output_type": "stream",
     "text": [
      "The color of apple is Red, and it's weight is 5.69\n"
     ]
    }
   ],
   "source": [
    "print(f'The color of apple is {apple_color}, and it\\'s weight is {apple_weight:.2f}')"
   ]
  },
  {
   "cell_type": "markdown",
   "id": "51488ce2-41d8-4b80-aab6-83b52dd1f6f5",
   "metadata": {
    "jp-MarkdownHeadingCollapsed": true
   },
   "source": [
    "### Ch_05(4-5)-列表、元组、集合、字典"
   ]
  },
  {
   "cell_type": "code",
   "execution_count": 33,
   "id": "f7205b12-38f7-479d-b12d-ac5478417ed3",
   "metadata": {},
   "outputs": [
    {
     "name": "stdout",
     "output_type": "stream",
     "text": [
      "列表长度为：7\n"
     ]
    }
   ],
   "source": [
    "my_list = [1,1.0,'1', True,[1,1.0,'1'],{1},{1:1.0}] #混合列表，最后一个元素是“字典类型”\n",
    "print(f'列表长度为：{len(my_list)}')"
   ]
  },
  {
   "cell_type": "code",
   "execution_count": 39,
   "id": "c500e61e-4f3a-41d2-9ab3-ff54a90dfb54",
   "metadata": {},
   "outputs": [
    {
     "name": "stdout",
     "output_type": "stream",
     "text": [
      "元素：1, 索引：0, 类型：<class 'int'>\n",
      "元素：1.0, 索引：1, 类型：<class 'float'>\n",
      "元素：1, 索引：2, 类型：<class 'str'>\n",
      "元素：True, 索引：3, 类型：<class 'bool'>\n",
      "元素：[1, 1.0, '1'], 索引：4, 类型：<class 'list'>\n",
      "元素：{1}, 索引：5, 类型：<class 'set'>\n",
      "元素：{1: 1.0}, 索引：6, 类型：<class 'dict'>\n"
     ]
    }
   ],
   "source": [
    "for index, item in enumerate(my_list):  #enumerate() 常用在遍历中，是一个内置函数，非常有用于在循环过程中同时获取每个元素的索引和值\n",
    "    type_i = type(item)\n",
    "    print(f\"元素：{item}, 索引：{index}, 类型：{type_i}\")"
   ]
  },
  {
   "cell_type": "code",
   "execution_count": 40,
   "id": "3e035f9a-e5c5-4494-8df8-61c35cdb7c3f",
   "metadata": {},
   "outputs": [
    {
     "name": "stdout",
     "output_type": "stream",
     "text": [
      "1 apple\n",
      "2 banana\n",
      "3 cherry\n"
     ]
    }
   ],
   "source": [
    "fruits = ['apple', 'banana', 'cherry']\n",
    "for index, fruit in enumerate(fruits, start=1):\n",
    "    print(index, fruit)"
   ]
  },
  {
   "cell_type": "code",
   "execution_count": 41,
   "id": "907100b1-8fcc-4fc1-89f9-754ad089dcb1",
   "metadata": {},
   "outputs": [
    {
     "name": "stdout",
     "output_type": "stream",
     "text": [
      "1.0\n"
     ]
    }
   ],
   "source": [
    "print(my_list[1])"
   ]
  },
  {
   "cell_type": "code",
   "execution_count": 47,
   "id": "a607099a-8180-4e77-ac6f-2b77aa4cfa60",
   "metadata": {},
   "outputs": [
    {
     "name": "stdout",
     "output_type": "stream",
     "text": [
      "[1, 1.0, '12ab', True, [1, 1.0, '1'], {1}, {1: 1.0}]\n",
      "[1, 1.0, 'inserted', '12ab', True, [1, 1.0, '1'], {1}, {1: 1.0}]\n",
      "[1, 1.0, 'inserted', '12ab', True, [1, 1.0, '1'], {1}, {1: 1.0}, 'tail']\n",
      "No\n",
      "['tail', {1: 1.0}, {1}, [1, 1.0, '1'], True, '12ab', 'inserted', 1.0, 1]\n"
     ]
    }
   ],
   "source": [
    "my_list = [1,1.0,'12ab',True,[1,1.0,'1'],{1},{1:1.0}]\n",
    "print(my_list)\n",
    "my_list.insert(2,'inserted')\n",
    "print(my_list)\n",
    "my_list.append('tail')\n",
    "print(my_list)\n",
    "if '123' in my_list:\n",
    "    print('yes')\n",
    "else:\n",
    "    print('No')\n",
    "my_list.reverse()\n",
    "print(my_list)"
   ]
  },
  {
   "cell_type": "code",
   "execution_count": 50,
   "id": "f6d985db-13b3-408c-8dcd-30e2c95309e7",
   "metadata": {},
   "outputs": [
    {
     "name": "stdout",
     "output_type": "stream",
     "text": [
      "拆分后两部分分别为：0和[1, 2, 3, 4, 5, 6, 7, 8]\n",
      "剩下的元素为:[2, 3, 4, 5, 6, 7, 8]\n"
     ]
    }
   ],
   "source": [
    "list_0 = [0,1,2,3,4,5,6,7,8]  #定义列表\n",
    "first,*list_rest = list_0 #将list_0中的元素拆分成两部分，分别存到first 和list_rest中\n",
    "print(f'拆分后两部分分别为：{first}和{list_rest}')\n",
    "first,second, *list_rest = list_0\n",
    "print(f\"剩下的元素为:{list_rest}\")"
   ]
  },
  {
   "cell_type": "code",
   "execution_count": 53,
   "id": "b6fe893d-12f7-4912-bcf0-add6a8f8f5e0",
   "metadata": {},
   "outputs": [
    {
     "name": "stdout",
     "output_type": "stream",
     "text": [
      "[1, 2, 3, 4, 5, 6, 7, 8]\n"
     ]
    }
   ],
   "source": [
    "list_1 = [1,2,3,4,5]\n",
    "list_2 = [6,7,8]\n",
    "combined_list = [*list_1, *list_2] #将两列表连接起来\n",
    "print(combined_list)"
   ]
  },
  {
   "cell_type": "code",
   "execution_count": 56,
   "id": "11270562-0236-40d1-8f78-690ee05f9213",
   "metadata": {},
   "outputs": [
    {
     "name": "stdout",
     "output_type": "stream",
     "text": [
      "['b', 'c']\n",
      "[2, 3, 4]\n"
     ]
    }
   ],
   "source": [
    "#定义字符串\n",
    "string_0 = 'abcd'\n",
    "first, *str_rest, last = string_0\n",
    "print(str_rest)\n",
    "\n",
    "#定义元组\n",
    "tuple_0 = (1,2,3,4)\n",
    "first, *rest_of_tuple_0 = tuple_0 #注意：对元组拆包后，返回的是列表（参考输出）\n",
    "print(rest_of_tuple_0)"
   ]
  },
  {
   "cell_type": "markdown",
   "id": "497d3772-ac2e-4d08-b281-f9849c19825d",
   "metadata": {},
   "source": [
    "*下面块解释：视图、浅拷贝和深拷贝*"
   ]
  },
  {
   "cell_type": "code",
   "execution_count": 59,
   "id": "04a77c00-8910-44db-ae0a-bbd62f3c21c6",
   "metadata": {},
   "outputs": [
    {
     "name": "stdout",
     "output_type": "stream",
     "text": [
      "list1 的地址为：2419767728576, list2的地址为：2419767728576, list3的地址为：2419767728128\n",
      "此时list1变为：[1, 2, 4, 4]\n"
     ]
    }
   ],
   "source": [
    "list1 = [1,2,3,4]\n",
    "list2 = list1  #“视图”，此时list1和list2的地址相同，修改list2的同时，list1也会改变\n",
    "list3 = list1.copy() #“浅拷贝”\n",
    "print(f'list1 的地址为：{id(list1)}, list2的地址为：{id(list2)}, list3的地址为：{id(list3)}')\n",
    "list2[2] = 4 #修改list2，观察List1\n",
    "print(f'此时list1变为：{list1}')"
   ]
  },
  {
   "cell_type": "code",
   "execution_count": 62,
   "id": "e1a79ce7-cfa1-4245-902f-d1547025f47e",
   "metadata": {},
   "outputs": [
    {
     "name": "stdout",
     "output_type": "stream",
     "text": [
      "原始list为：[1, 2, 3, [4, 5]]\n",
      "新list1为：[1, 2, 3, ['abc', 5]]\n",
      "深拷贝：[1, 2, 'worked_0', ['deep', 5]]\n",
      "浅拷贝：[1, 2, 'worked_1', ['abc', 5]]\n"
     ]
    }
   ],
   "source": [
    "import copy\n",
    "list1 = [1,2,3,[4,5]]\n",
    "print(f'原始list为：{list1}')\n",
    "#深拷贝，适用于嵌套列表\n",
    "list_deep = copy.deepcopy(list1)\n",
    "#浅拷贝\n",
    "list2 = list1.copy()\n",
    "list_deep[3][0] = 'deep' #只有深层拷贝是使用一个与原来列表完全不同的新地址\n",
    "list_deep[2] = 'worked_0'\n",
    "\n",
    "list2[3][0] = 'abc'  #从输出可分析出：浅拷贝后，深层元素任然与原列表共用同一地址\n",
    "list2[2] = 'worked_1'\n",
    "\n",
    "print(f\"新list1为：{list1}\")\n",
    "print(f\"深拷贝：{list_deep}\")\n",
    "print(f\"浅拷贝：{list2}\")"
   ]
  },
  {
   "cell_type": "code",
   "execution_count": 68,
   "id": "2017ab94-7e6e-4234-9dca-da4f9dd4b481",
   "metadata": {},
   "outputs": [
    {
     "name": "stdout",
     "output_type": "stream",
     "text": [
      "<class 'tuple'>\n",
      "<class 'set'>\n",
      "jack\n",
      "888\n",
      "{'name': 'jack', 'age': 18, 'sex': 'man'}\n",
      "{'name': 'jack', 'sex': 'man'}\n"
     ]
    }
   ],
   "source": [
    "tuple_01 = (1,2,3,4) #创建元组使用(),列表用[]，\n",
    "print(type(tuple_01))\n",
    "set_01 = {1,2,3,4,5} #创建集合使用{}\n",
    "print(type(set_01))\n",
    "#下面使用{}创建字典\n",
    "Person = {'name':'jack', 'age':18}\n",
    "#访问字典\n",
    "print(Person['name'])\n",
    "#使用dict()函数创建字典\n",
    "fruits = dict(apple=88,banana=888,cherry=8888)\n",
    "print(fruits['banana'])\n",
    "#添加键值对\n",
    "Person['sex'] = 'man'\n",
    "print(Person)\n",
    "#删除键值对\n",
    "del Person['age']\n",
    "print(Person)"
   ]
  },
  {
   "cell_type": "code",
   "execution_count": 73,
   "id": "c2f2487a-3fbb-4d9f-987c-604bd20ef00e",
   "metadata": {},
   "outputs": [
    {
     "name": "stdout",
     "output_type": "stream",
     "text": [
      "dict_keys(['name', 'sex'])\n",
      "dict_values(['jack', 'man'])\n",
      "dict_items([('name', 'jack'), ('sex', 'man')])\n",
      "<class 'dict_keys'>\n",
      "['name', 'sex']\n"
     ]
    }
   ],
   "source": [
    "#获取键、值、键值对列表\n",
    "print(Person.keys())\n",
    "print(Person.values())\n",
    "print(Person.items())\n",
    "print(type(Person.keys()))\n",
    "print(list(Person.keys())) #转换成列表"
   ]
  },
  {
   "cell_type": "markdown",
   "id": "0bf0b6e8-ca59-4f36-ad62-03751e01c662",
   "metadata": {
    "jp-MarkdownHeadingCollapsed": true
   },
   "source": [
    "### Ch_05(6)-矩阵、向量"
   ]
  },
  {
   "cell_type": "code",
   "execution_count": 86,
   "id": "b620e308-8437-4b59-91a2-5ad5d23d9cc5",
   "metadata": {},
   "outputs": [
    {
     "name": "stdout",
     "output_type": "stream",
     "text": [
      "5\n",
      "[0, 5]\n",
      "[[0, 5]]\n",
      "[0, 3, 5]\n",
      "[[0], [3], [5]]\n"
     ]
    }
   ],
   "source": [
    "A = [[0,5],\n",
    "    [3,4],\n",
    "    [5,0]]\n",
    "print(A[2][0]) #取出矩阵中的一个元素\n",
    "#取出矩阵的第一行\n",
    "print(A[0]) \n",
    "print([A[0]])\n",
    "#取出矩阵的第一列\n",
    "print([row[0] for row in A])\n",
    "print([[row[0]] for row in A ])"
   ]
  },
  {
   "cell_type": "code",
   "execution_count": 83,
   "id": "583b3e8a-7ed5-4d7a-b31d-98ad06510028",
   "metadata": {},
   "outputs": [
    {
     "ename": "TypeError",
     "evalue": "'int' object is not subscriptable",
     "output_type": "error",
     "traceback": [
      "\u001b[1;31m---------------------------------------------------------------------------\u001b[0m",
      "\u001b[1;31mTypeError\u001b[0m                                 Traceback (most recent call last)",
      "Cell \u001b[1;32mIn[83], line 2\u001b[0m\n\u001b[0;32m      1\u001b[0m B \u001b[38;5;241m=\u001b[39m A[\u001b[38;5;241m0\u001b[39m]\n\u001b[1;32m----> 2\u001b[0m \u001b[38;5;28mprint\u001b[39m(B[\u001b[38;5;241m0\u001b[39m][\u001b[38;5;241m1\u001b[39m])\n",
      "\u001b[1;31mTypeError\u001b[0m: 'int' object is not subscriptable"
     ]
    }
   ],
   "source": [
    "B = A[0]\n",
    "print(B[0][1])"
   ]
  },
  {
   "cell_type": "code",
   "execution_count": 85,
   "id": "817a7717-ae7c-46bc-8469-7a8bc316e12f",
   "metadata": {},
   "outputs": [
    {
     "name": "stdout",
     "output_type": "stream",
     "text": [
      "5\n"
     ]
    }
   ],
   "source": [
    "B = [A[0]]\n",
    "print(B[0][1])  #与上一行cell对比可知，嵌套列表可以使得向量以矩阵的形式被取出元素"
   ]
  },
  {
   "cell_type": "markdown",
   "id": "341a898c-8a85-492d-9026-fea465c8de4f",
   "metadata": {
    "jp-MarkdownHeadingCollapsed": true
   },
   "source": [
    "### Ch_06(1-)-运算符相关"
   ]
  },
  {
   "cell_type": "code",
   "execution_count": 3,
   "id": "e1e76475-3bc5-4403-b832-cb39641559d7",
   "metadata": {},
   "outputs": [
    {
     "name": "stdout",
     "output_type": "stream",
     "text": [
      "30.0\n",
      "1020.0\n"
     ]
    }
   ],
   "source": [
    "#加减法\n",
    "a = 10\n",
    "b = 20.0\n",
    "c = a + b\n",
    "print(c)\n",
    "\n",
    "#字符串拼接\n",
    "str_a = \"10\"\n",
    "str_b = \"20.0\"\n",
    "str_c = str_a + str_b\n",
    "print(str_c)"
   ]
  },
  {
   "cell_type": "code",
   "execution_count": 5,
   "id": "480bdf13-6795-41f7-9a37-d781ef8336c6",
   "metadata": {},
   "outputs": [
    {
     "name": "stdout",
     "output_type": "stream",
     "text": [
      "200.0\n",
      "101010\n"
     ]
    }
   ],
   "source": [
    "#乘除法，数值计算\n",
    "print(10*20.0)\n",
    "#乘除法应用于字符串复制\n",
    "str_a = \"10\"\n",
    "str_b = \"20.0\"\n",
    "print(str_a * 3)"
   ]
  },
  {
   "cell_type": "code",
   "execution_count": 9,
   "id": "d798e229-34d3-47a9-9949-487b45b138b2",
   "metadata": {},
   "outputs": [
    {
     "name": "stdout",
     "output_type": "stream",
     "text": [
      "False\n",
      "True\n",
      "True\n",
      "True\n"
     ]
    }
   ],
   "source": [
    "# 比较运算符\n",
    "print(5 == 3)\n",
    "print(5 != 3)\n",
    "\n",
    "print(5 > 3)\n",
    "print(4 >= 4)\n"
   ]
  },
  {
   "cell_type": "code",
   "execution_count": 13,
   "id": "f57c4eee-6d2b-4489-aa31-e35908371833",
   "metadata": {},
   "outputs": [
    {
     "name": "stdout",
     "output_type": "stream",
     "text": [
      "False\n",
      "True\n",
      "False\n"
     ]
    }
   ],
   "source": [
    "#逻辑运算符\n",
    "#逻辑与，使用and\n",
    "print(True and False)\n",
    "#逻辑或，使用or\n",
    "print(True or False)\n",
    "#逻辑非，使用not\n",
    "print(not True)"
   ]
  },
  {
   "cell_type": "code",
   "execution_count": 14,
   "id": "082d4a8d-c99a-443f-bb4f-4cca4d7ba2af",
   "metadata": {},
   "outputs": [
    {
     "name": "stdout",
     "output_type": "stream",
     "text": [
      "10\n"
     ]
    }
   ],
   "source": [
    "#赋值运算符\n",
    "a = 5\n",
    "a += 5\n",
    "print(a)"
   ]
  },
  {
   "cell_type": "code",
   "execution_count": 15,
   "id": "bb6eb49e-2853-4e66-a2a1-6b6393c0bf52",
   "metadata": {},
   "outputs": [
    {
     "name": "stdout",
     "output_type": "stream",
     "text": [
      "True\n",
      "False\n",
      "True\n"
     ]
    }
   ],
   "source": [
    "#成员运算符(用于测试是否存在序列中，共有两个成员运算符：a) in b) not in)\n",
    "my_list = [1,2,3,4,5]\n",
    "print(3 in my_list)\n",
    "print(6 in my_list)\n",
    "\n",
    "print(6 not in my_list)"
   ]
  },
  {
   "cell_type": "code",
   "execution_count": 18,
   "id": "02ce740a-bbf7-4b9e-b09b-020e8327d8a5",
   "metadata": {},
   "outputs": [
    {
     "name": "stdout",
     "output_type": "stream",
     "text": [
      "True\n",
      "True\n",
      "False\n",
      "True\n",
      "False\n"
     ]
    }
   ],
   "source": [
    "#身份运算符（包括is和is not，用于判断两个对象是否引用同一个内存地址）\n",
    "import copy\n",
    "a = [1,2,3]\n",
    "b = a \n",
    "c = [1,2,3]\n",
    "d = a.copy()\n",
    "print(a is b) #验证a 和 b的内存地址相同\n",
    "print(a is not d)\n",
    "\n",
    "#下面关注深拷贝\n",
    "a_2_layers = [1,2,[3,4]]\n",
    "d_2_layers = a_2_layers.copy()\n",
    "e_2_layers = copy.deepcopy(a_2_layers)\n",
    "\n",
    "print(a_2_layers is d_2_layers)\n",
    "print(a_2_layers[2] is d_2_layers[2])\n",
    "print(a_2_layers[2] is e_2_layers[2])"
   ]
  },
  {
   "cell_type": "code",
   "execution_count": 25,
   "id": "e8ad71c3-fd8c-4140-a6b5-caadf1a26ffd",
   "metadata": {},
   "outputs": [
    {
     "name": "stdout",
     "output_type": "stream",
     "text": [
      "0.0\n",
      "-2.4492935982947064e-16\n"
     ]
    },
    {
     "data": {
      "image/png": "[encoded data removed]",
      "text/plain": [
       "<Figure size 640x480 with 1 Axes>"
      ]
     },
     "metadata": {},
     "output_type": "display_data"
    }
   ],
   "source": [
    "#关于math库\n",
    "import math\n",
    "import matplotlib.pyplot as plt\n",
    "#计算正弦值\n",
    "x_start = 0\n",
    "print(math.sin(x_start))\n",
    "x_end = 2*math.pi\n",
    "print(math.sin(x_end))\n",
    "\n",
    "num = 37\n",
    "step = (x_end - x_start)/(num-1)\n",
    "x_array = [x_start + i*step for i in range(num)] #横坐标\n",
    "zero_array = [0 for i in range(num)]\n",
    "plt.plot(x_array, zero_array,marker = '.',\n",
    "        markersize = 8,\n",
    "        markerfacecolor = \"w\",\n",
    "        markeredgecolor = 'k')\n",
    "plt.text(x_start,0,'0')\n",
    "plt.text(x_end,0,r'$2\\pi$')\n",
    "plt.axis('off')\n",
    "plt.show()\n"
   ]
  },
  {
   "cell_type": "code",
   "execution_count": 31,
   "id": "1d1946fd-508f-4823-aa1c-9ebc681f9e23",
   "metadata": {},
   "outputs": [
    {
     "data": {
      "image/png": "[encoded data removed]",
      "text/plain": [
       "<Figure size 640x480 with 1 Axes>"
      ]
     },
     "metadata": {},
     "output_type": "display_data"
    },
    {
     "data": {
      "image/png": "[encoded data removed]",
      "text/plain": [
       "<Figure size 640x480 with 1 Axes>"
      ]
     },
     "metadata": {},
     "output_type": "display_data"
    }
   ],
   "source": [
    "import random\n",
    "import statistics\n",
    "import matplotlib.pyplot as plt\n",
    "#产生数据\n",
    "num =50\n",
    "random.seed(0)\n",
    "x_data = [random.uniform(0,10) for _ in range(num)]\n",
    "noise = [random.gauss(0,1) for _ in range(num)]\n",
    "y_data = [0.5 * x_data[idx] + 1 + noise[idx]\n",
    "         for idx in range(num)]\n",
    "#绘制散点图\n",
    "fig,ax = plt.subplots()\n",
    "ax.scatter(x_data,y_data)\n",
    "ax.set_xlabel('x');ax.set_ylabel('y')\n",
    "ax.set_aspect('equal', adjustable='box')\n",
    "ax.set_xlim(0,10);ax.set_ylim(-2,8)\n",
    "ax.grid()\n",
    "\n",
    "#一元线性回归\n",
    "slope,intercept = statistics.linear_regression(x_data,y_data)\n",
    "#生成一个等差数列\n",
    "start,end,step = 0,10,0.5\n",
    "x_array = []\n",
    "x_i = start\n",
    "while x_i <=end:\n",
    "    x_array.append(x_i)\n",
    "    x_i += step\n",
    "#计算y_array预测值\n",
    "y_array_predicted = [slope * x_i + intercept for x_i in x_array]\n",
    "#可视化回归直线\n",
    "fig, ax = plt.subplots()\n",
    "ax.scatter(x_data,y_data)\n",
    "ax.plot(x_array,y_array_predicted,color = 'r')\n",
    "ax.set_xlabel('x');ax.set_ylabel('y')\n",
    "ax.set_aspect('equal', adjustable='box')\n",
    "ax.set_xlim(0,10);ax.set_ylim(-2,8)\n",
    "ax.grid()"
   ]
  },
  {
   "cell_type": "markdown",
   "id": "f2c403c6-3bf1-48ec-abc7-123e3b68b11a",
   "metadata": {
    "jp-MarkdownHeadingCollapsed": true
   },
   "source": [
    "### Ch_07(1-)-运算符相关"
   ]
  },
  {
   "cell_type": "code",
   "execution_count": 2,
   "id": "fd3657f4-1f8c-4b41-9f5b-5af5d0361730",
   "metadata": {},
   "outputs": [
    {
     "name": "stdout",
     "output_type": "stream",
     "text": [
      "向量内积为：80\n"
     ]
    }
   ],
   "source": [
    "#7.3 For循环语句(使用range()生成可迭代对象)\n",
    "a = [1,2,3,4,5]\n",
    "b = [6,7,8,9,0]\n",
    "dot_product = 0\n",
    "for i in range(len(a)):\n",
    "    dot_product += a[i] * b[i]\n",
    "print(f\"向量内积为：{dot_product}\")"
   ]
  },
  {
   "cell_type": "code",
   "execution_count": 20,
   "id": "9a186e5a-732c-4a4b-b94a-210336a901ee",
   "metadata": {},
   "outputs": [
    {
     "name": "stdout",
     "output_type": "stream",
     "text": [
      "0\n",
      "1\n",
      "2\n",
      "3\n",
      "4\n",
      "[10, 11, 12, 13, 14, 15, 16, 17, 18, 19, 20]\n",
      "1\n",
      "3\n",
      "5\n",
      "7\n",
      "9\n"
     ]
    }
   ],
   "source": [
    "#range()函数的使用\n",
    "c = [1,2,3,4,5,6,7,8,9,10,11]\n",
    "for i in range(4+1):\n",
    "    print(i)\n",
    "for i in range(10,20 + 1):\n",
    "    c[i-10] = i\n",
    "print(c)\n",
    "for i in range(1,10+1,2):\n",
    "    print(i)"
   ]
  },
  {
   "cell_type": "code",
   "execution_count": 23,
   "id": "5841cb65-7777-4ba2-aaaa-701ffa85d928",
   "metadata": {},
   "outputs": [
    {
     "name": "stdout",
     "output_type": "stream",
     "text": [
      "0 apple\n",
      "1 banana\n",
      "2 cherry\n"
     ]
    }
   ],
   "source": [
    "#使用enumerate()生成索引\n",
    "fruits = ['apple', 'banana','cherry']\n",
    "for index, item in enumerate(fruits):\n",
    "    print(index,item)"
   ]
  },
  {
   "cell_type": "code",
   "execution_count": 28,
   "id": "0595c50a-0fcf-4528-9853-be3434fa9ffb",
   "metadata": {},
   "outputs": [
    {
     "name": "stdout",
     "output_type": "stream",
     "text": [
      "Alice 80\n",
      "Bob 90\n"
     ]
    }
   ],
   "source": [
    "#使用zip(),zip()可以将多个可迭代对象的元素组合成元组，然后返回这些元组组成的迭代器\n",
    "names = ['Alice', 'Bob', 'Charlie']\n",
    "scores = [80, 90]\n",
    "for name,score in zip(names,scores):\n",
    "    print(name,score)  ##以长度最短的可迭代对象为准进行迭代"
   ]
  },
  {
   "cell_type": "code",
   "execution_count": 29,
   "id": "539f1723-829b-492f-acdd-81465cba2ef7",
   "metadata": {},
   "outputs": [
    {
     "name": "stdout",
     "output_type": "stream",
     "text": [
      "130\n"
     ]
    }
   ],
   "source": [
    "#使用zip()计算内积\n",
    "a = [1,2,3,4,5]\n",
    "b = [6,7,8,9,10]\n",
    "dot_a_b = 0\n",
    "for a_i,b_i in zip(a,b):\n",
    "    dot_a_b += a_i * b_i\n",
    "print(dot_a_b)"
   ]
  },
  {
   "cell_type": "code",
   "execution_count": 30,
   "id": "d55b5db7-0b28-462a-a1c9-ff348b130d25",
   "metadata": {},
   "outputs": [
    {
     "name": "stdout",
     "output_type": "stream",
     "text": [
      "[[0, 1, 2, 3, 4, 5], [0, 1, 2, 3, 4, 5], [0, 1, 2, 3, 4, 5], [0, 1, 2, 3, 4, 5]]\n",
      "[[0, 0, 0, 0, 0, 0], [1, 1, 1, 1, 1, 1], [2, 2, 2, 2, 2, 2], [3, 3, 3, 3, 3, 3]]\n"
     ]
    }
   ],
   "source": [
    "def custom_meshgrid(x,y):\n",
    "    num_x = len(x); num_y = len(y)\n",
    "    X = []; Y = []\n",
    "    for i in range(num_y):\n",
    "        X_row = []; Y_row = []\n",
    "        #内层for循环\n",
    "        for j in range(num_x):\n",
    "            X_row.append(x[j])\n",
    "            Y_row.append(y[i])\n",
    "        X.append(X_row); Y.append(Y_row)\n",
    "    return X,Y\n",
    "\n",
    "x = [0,1,2,3,4,5]\n",
    "y = [0,1,2,3]\n",
    "X,Y = custom_meshgrid(x,y)\n",
    "print(X)\n",
    "print(Y)"
   ]
  },
  {
   "cell_type": "code",
   "execution_count": 32,
   "id": "3f5cf90f-40fd-4317-8a96-232fd1249f8f",
   "metadata": {},
   "outputs": [
    {
     "name": "stdout",
     "output_type": "stream",
     "text": [
      "80\n",
      "[[ 505 1111]\n",
      " [1111 2525]]\n"
     ]
    }
   ],
   "source": [
    "#向量化,可以避免使用for 循环\n",
    "import numpy as np\n",
    "a = np.array([1,2,3,4,5])\n",
    "b = np.array([6,7,8,9,0])\n",
    "#计算向量点积\n",
    "dot_product = np.dot(a,b)\n",
    "print(dot_product)\n",
    "\n",
    "#计算矩阵乘法\n",
    "A = np.array([[1,2,10,20],\n",
    "            [3,4,30,40]])\n",
    "B = np.array([[1,3],\n",
    "             [2,4],\n",
    "             [10,30],\n",
    "             [20,40]])\n",
    "print(A@B)"
   ]
  },
  {
   "cell_type": "code",
   "execution_count": 33,
   "id": "a4270eca-fc21-4250-9997-3eb0acd2acb8",
   "metadata": {},
   "outputs": [
    {
     "name": "stdout",
     "output_type": "stream",
     "text": [
      "[2, 4, 6, 8, 10]\n"
     ]
    }
   ],
   "source": [
    "#7.4 列表生成式, 用于快速生成新的列表\n",
    "even_number = [num for num in range(1,11)\n",
    "              if num %2 == 0]\n",
    "print(even_number)"
   ]
  },
  {
   "cell_type": "code",
   "execution_count": 35,
   "id": "2d85a7aa-ce04-4899-8305-f345d55b5769",
   "metadata": {},
   "outputs": [
    {
     "name": "stdout",
     "output_type": "stream",
     "text": [
      "[[1, 5], [2, 6], [3, 7], [4, 8]]\n"
     ]
    }
   ],
   "source": [
    "#自定义矩阵转置函数\n",
    "def my_Mat_trs(matrix):\n",
    "    transposed = []\n",
    "    rows = len(matrix)\n",
    "    cols = len(matrix[0])\n",
    "    for j in range(cols):  ##将原矩阵的每一列单独转成行，然后存到转置矩阵中\n",
    "        transposed_row = [matrix[i][j]\n",
    "                         for i in range(rows)]\n",
    "        transposed.append(transposed_row)\n",
    "    return transposed\n",
    "A = [[1,2,3,4],\n",
    "    [5,6,7,8]]\n",
    "print(my_Mat_trs(A))"
   ]
  },
  {
   "cell_type": "code",
   "execution_count": 37,
   "id": "e42556ea-7a07-4439-84bf-9b78acb632c3",
   "metadata": {},
   "outputs": [
    {
     "name": "stdout",
     "output_type": "stream",
     "text": [
      "[(1, 'a'), (1, 'b'), (1, 'c'), (2, 'a'), (2, 'b'), (2, 'c'), (3, 'a'), (3, 'b'), (3, 'c'), (4, 'a'), (4, 'b'), (4, 'c')]\n"
     ]
    }
   ],
   "source": [
    "column1 = [1,2,3,4]\n",
    "column2 = ['a','b','c']\n",
    "\n",
    "cartesian_product = [(x,y) for x in column1 for y in column2]\n",
    "print(cartesian_product)"
   ]
  },
  {
   "cell_type": "code",
   "execution_count": 39,
   "id": "e28ebb7d-0537-4715-a2c0-fe587a2c1c45",
   "metadata": {},
   "outputs": [
    {
     "name": "stdout",
     "output_type": "stream",
     "text": [
      "abc\n",
      "('a', 'b', 'c')\n",
      "acb\n",
      "('a', 'c', 'b')\n",
      "bac\n",
      "('b', 'a', 'c')\n",
      "bca\n",
      "('b', 'c', 'a')\n",
      "cab\n",
      "('c', 'a', 'b')\n",
      "cba\n",
      "('c', 'b', 'a')\n"
     ]
    }
   ],
   "source": [
    "##迭代器itertools\n",
    "import itertools\n",
    "string = 'abc'\n",
    "perms_all = itertools.permutations(string)#返回一个可迭代对象perms\n",
    "#全排列\n",
    "for perm_idx in perms_all:\n",
    "    print(''.join(perm_idx))\n",
    "    print(perm_idx)"
   ]
  },
  {
   "cell_type": "code",
   "execution_count": 14,
   "id": "bdfc194d-734a-4fca-bd9e-e3f33a9ff3fa",
   "metadata": {},
   "outputs": [
    {
     "name": "stdout",
     "output_type": "stream",
     "text": [
      "[[0, 0], [0, 0], [0, 0]]\n",
      "[[22, 28], [31, 40], [40, 52]]\n"
     ]
    }
   ],
   "source": [
    "x = [[1,2,3],\n",
    "     [2,3,4],\n",
    "     [3,4,5]]\n",
    "y = [[1,2],\n",
    "     [3,4],\n",
    "     [5,6]]\n",
    "#自己的矩阵乘法\n",
    "def matrix_mul(m_a, m_b):\n",
    "    rows_m_a = len(m_a)\n",
    "    rows_m_b = len(m_b)\n",
    "    cols_m_a = len(m_a[0])\n",
    "    cols_m_b = len(m_b[0])\n",
    "    #检查两个矩阵形状是否匹配\n",
    "    if cols_m_a != rows_m_b:\n",
    "        raise VlaueError(\"Error:check matrix sizes\")\n",
    "    else:\n",
    "        # 初始化输出矩阵\n",
    "        matrix_result_out = [[0] * cols_m_b for _ in range(rows_m_a)]\n",
    "        print(matrix_result_out)\n",
    "        for i in range(rows_m_a):\n",
    "            for m in range(cols_m_b):\n",
    "                for j in range(cols_m_a):\n",
    "                    matrix_result_out[i][m] += x[i][j] * y[j][m] \n",
    "    return matrix_result_out\n",
    "\n",
    "\n",
    "print(matrix_mul(x, y))\n"
   ]
  },
  {
   "cell_type": "code",
   "execution_count": 2,
   "id": "f4313822-950a-46e9-8680-c4a62d8826dd",
   "metadata": {},
   "outputs": [
    {
     "name": "stdout",
     "output_type": "stream",
     "text": [
      "[[0, 0], [0, 0]]\n"
     ]
    }
   ],
   "source": [
    "print([[0]*2 for _ in range(2)])"
   ]
  },
  {
   "cell_type": "code",
   "execution_count": 3,
   "id": "d206b2a4-53eb-44df-a43e-6f66af3e8fe2",
   "metadata": {},
   "outputs": [
    {
     "name": "stdout",
     "output_type": "stream",
     "text": [
      "[0, 0]\n"
     ]
    }
   ],
   "source": [
    "print([0] * 2)"
   ]
  },
  {
   "cell_type": "markdown",
   "id": "14c92bba-4953-436e-b557-4acf97cc8ad4",
   "metadata": {
    "jp-MarkdownHeadingCollapsed": true
   },
   "source": [
    "### Ch_08(1-)-Python函数"
   ]
  },
  {
   "cell_type": "code",
   "execution_count": 13,
   "id": "348b9292-8962-467d-aa4c-5641c6b8f307",
   "metadata": {},
   "outputs": [
    {
     "data": {
      "image/png": "[encoded data removed]",
      "text/plain": [
       "<Figure size 400x400 with 1 Axes>"
      ]
     },
     "metadata": {},
     "output_type": "display_data"
    }
   ],
   "source": [
    "#导入包(Matplotlib库中的pyplot模块)\n",
    "import matplotlib.pyplot as plt\n",
    "#导入Numpy库\n",
    "import numpy as np\n",
    "\n",
    "#自定义函数\n",
    "def beautify_line_chart():\n",
    "    #添加标签\n",
    "    plt.xlabel(\"x\")\n",
    "    plt.ylabel(\"y\")\n",
    "    #设置坐标轴范围\n",
    "    plt.xlim(-2,2)\n",
    "    plt.ylim(-2,2)\n",
    "    #设置横纵轴刻度\n",
    "    plt.xticks([num for num in range(-2,2+1,1)])\n",
    "    plt.yticks([num for num in range(-2,2+1,1)])\n",
    "    #添加网格线\n",
    "    plt.grid(True)\n",
    "    #横纵轴统一标尺\n",
    "    plt.gca().set_aspect('equal', adjustable='box')\n",
    "    #显示图形\n",
    "    plt.show()\n",
    "x_array = np.linspace(-2,2,101)\n",
    "#绘制直线\n",
    "fig, ax = plt.subplots(figsize = (4,4))\n",
    "y_array = x_array #一次函数\n",
    "y_array_2 = x_array **2\n",
    "plt.plot(x_array,y_array,'r')\n",
    "plt.plot(x_array,y_array_2,'g')\n",
    "beautify_line_chart()"
   ]
  },
  {
   "cell_type": "code",
   "execution_count": 2,
   "id": "eadb4423-97d7-4efa-9043-4080df1f2b35",
   "metadata": {},
   "outputs": [
    {
     "name": "stdout",
     "output_type": "stream",
     "text": [
      "[-2, -1, 0, 1, 2]\n"
     ]
    }
   ],
   "source": [
    "print([num for num in range(-2,2,1)])"
   ]
  },
  {
   "cell_type": "code",
   "execution_count": 7,
   "id": "11a4acb1-4050-4641-bd35-834692e2ea60",
   "metadata": {},
   "outputs": [
    {
     "name": "stdout",
     "output_type": "stream",
     "text": [
      "[-2.   -1.96 -1.92 -1.88 -1.84 -1.8  -1.76 -1.72 -1.68 -1.64 -1.6  -1.56\n",
      " -1.52 -1.48 -1.44 -1.4  -1.36 -1.32 -1.28 -1.24 -1.2  -1.16 -1.12 -1.08\n",
      " -1.04 -1.   -0.96 -0.92 -0.88 -0.84 -0.8  -0.76 -0.72 -0.68 -0.64 -0.6\n",
      " -0.56 -0.52 -0.48 -0.44 -0.4  -0.36 -0.32 -0.28 -0.24 -0.2  -0.16 -0.12\n",
      " -0.08 -0.04  0.    0.04  0.08  0.12  0.16  0.2   0.24  0.28  0.32  0.36\n",
      "  0.4   0.44  0.48  0.52  0.56  0.6   0.64  0.68  0.72  0.76  0.8   0.84\n",
      "  0.88  0.92  0.96  1.    1.04  1.08  1.12  1.16  1.2   1.24  1.28  1.32\n",
      "  1.36  1.4   1.44  1.48  1.52  1.56  1.6   1.64  1.68  1.72  1.76  1.8\n",
      "  1.84  1.88  1.92  1.96  2.  ]\n"
     ]
    },
    {
     "data": {
      "image/png": "[encoded data removed]",
      "text/plain": [
       "<Figure size 400x400 with 1 Axes>"
      ]
     },
     "metadata": {},
     "output_type": "display_data"
    }
   ],
   "source": [
    "import matplotlib.pyplot as plt\n",
    "import numpy as np \n",
    "x_array = np.linspace(-2,2,101)\n",
    "fig, ax = plt.subplots(figsize = (4,4))\n",
    "print(x_array)"
   ]
  },
  {
   "cell_type": "code",
   "execution_count": 16,
   "id": "a4548af6-0dcf-4ebc-abf9-fd143e758d59",
   "metadata": {},
   "outputs": [
    {
     "name": "stdout",
     "output_type": "stream",
     "text": [
      "[[0, 0, 0], [0, 0, 0], [0, 0, 0]]\n"
     ]
    }
   ],
   "source": [
    "#自定义全0矩阵\n",
    "def creat_zeros_matrix(rows,cols):\n",
    "    zeros_matrix = [[0]*cols for _ in range(rows)]\n",
    "    return zeros_matrix\n",
    "print(creat_zeros_matrix(3,3))"
   ]
  },
  {
   "cell_type": "code",
   "execution_count": 17,
   "id": "5c5145b2-1f42-430a-ac05-a994b757640a",
   "metadata": {},
   "outputs": [
    {
     "name": "stdout",
     "output_type": "stream",
     "text": [
      "[[1, 0, 0], [0, 1, 0], [0, 0, 1]]\n"
     ]
    }
   ],
   "source": [
    "#自定义函数产生单位矩阵\n",
    "def identity_matrix(size):\n",
    "    matrix = []\n",
    "    for i in range(size):\n",
    "        row = [0] * size\n",
    "        row[i] = 1\n",
    "        matrix.append(row)\n",
    "    return matrix\n",
    "print(identity_matrix(3))"
   ]
  },
  {
   "cell_type": "code",
   "execution_count": 19,
   "id": "ec7637f0-516c-49bb-aac4-ec9fa3e0ffc1",
   "metadata": {},
   "outputs": [
    {
     "name": "stdout",
     "output_type": "stream",
     "text": [
      "[[1, 0, 0, 0], [0, 2, 0, 0], [0, 0, 3, 0], [0, 0, 0, 4]]\n"
     ]
    }
   ],
   "source": [
    "#自定义函数产生对角方阵\n",
    "def diagonal_matrix(values):\n",
    "    rows = len(values)\n",
    "    matrix = []\n",
    "    for i in range(rows):\n",
    "        row = [0] * rows\n",
    "        row[i] = values[i]\n",
    "        matrix.append(row)\n",
    "    return matrix\n",
    "print(diagonal_matrix([1,2,3,4]))"
   ]
  },
  {
   "cell_type": "code",
   "execution_count": 25,
   "id": "d9b52f0d-abf0-409b-b859-f7b7bc41d853",
   "metadata": {},
   "outputs": [
    {
     "name": "stdout",
     "output_type": "stream",
     "text": [
      "[1, 3, 5]\n"
     ]
    }
   ],
   "source": [
    "#提取对角线元素\n",
    "def extract_main_diagonal(matrix):\n",
    "    rows = len(matrix)\n",
    "    cols = len(matrix[0])\n",
    "    num = min(rows,cols)\n",
    "    dig_element = [0]*num\n",
    "    for i in range(num):\n",
    "        dig_element[i] = matrix[i][i]\n",
    "    return dig_element\n",
    "A = [[1,2,3],\n",
    "    [2,3,4],\n",
    "    [3,4,5]]\n",
    "print(extract_main_diagonal(A))"
   ]
  },
  {
   "cell_type": "code",
   "execution_count": 32,
   "id": "b6cf955e-ddf3-4f06-83b4-c484a14d96d8",
   "metadata": {},
   "outputs": [
    {
     "name": "stdout",
     "output_type": "stream",
     "text": [
      "True\n",
      "None\n"
     ]
    }
   ],
   "source": [
    "#判断矩阵是否为对称矩阵(判断矩阵是否沿对角线元素严格对称)\n",
    "def is_symmetric_1(matrix):\n",
    "    rows = len(matrix)\n",
    "    cols = len(matrix[0])\n",
    "    flag = 0\n",
    "    for i in range(rows):\n",
    "        for j in range(cols):\n",
    "            if matrix[i][j] == matrix[j][i]:\n",
    "                continue\n",
    "            else:\n",
    "                flag = 1\n",
    "                break\n",
    "    if flag == 0:\n",
    "        return True\n",
    "#两个矩阵\n",
    "A = [[1,2,3],\n",
    "    [2,3,4],\n",
    "    [3,4,5]]\n",
    "B = [[1,2],\n",
    "    [1,2]]\n",
    "print(is_symmetric_1(A))\n",
    "print(is_symmetric_1(B))"
   ]
  },
  {
   "cell_type": "code",
   "execution_count": 34,
   "id": "d96d3c64-ae58-4c81-9871-4244a65960b1",
   "metadata": {},
   "outputs": [
    {
     "name": "stdout",
     "output_type": "stream",
     "text": [
      "0!= 1\n",
      "1!= 1\n",
      "2!= 2\n",
      "3!= 6\n",
      "4!= 24\n",
      "5!= 120\n",
      "6!= 720\n",
      "7!= 5040\n",
      "8!= 40320\n",
      "9!= 362880\n"
     ]
    }
   ],
   "source": [
    "#递归函数, 计算阶乘\n",
    "def factorial(n):\n",
    "    if n==0 or n==1:\n",
    "        return 1\n",
    "    else:\n",
    "        return n*factorial(n-1)\n",
    "\n",
    "for i in range(10):\n",
    "    print(f'{i}!= {factorial(i)}')"
   ]
  },
  {
   "cell_type": "code",
   "execution_count": 35,
   "id": "0bfd96a2-d50b-4407-88fc-8e7b4cccca49",
   "metadata": {},
   "outputs": [
    {
     "name": "stdout",
     "output_type": "stream",
     "text": [
      "0\n",
      "1\n",
      "1\n",
      "2\n",
      "3\n",
      "5\n",
      "8\n",
      "13\n",
      "21\n",
      "34\n"
     ]
    }
   ],
   "source": [
    "#使用递归函数生成Fibonacci数列\n",
    "def fibonacci(n):\n",
    "    if n <= 1:\n",
    "        return n\n",
    "    else:\n",
    "        return fibonacci(n-1)+fibonacci(n-2)\n",
    "for i in range(10):\n",
    "    print(fibonacci(i))"
   ]
  },
  {
   "cell_type": "code",
   "execution_count": 37,
   "id": "4f3ea3f0-07dc-49ea-9e15-e75c113093be",
   "metadata": {},
   "outputs": [
    {
     "name": "stdout",
     "output_type": "stream",
     "text": [
      "[2, 3, 4, 5, 6]\n",
      "[1, 4, 9, 16, 25]\n"
     ]
    }
   ],
   "source": [
    "#匿名函数(lambda()配合map()使用)\n",
    "my_list = [1,2,3,4,5]\n",
    "\n",
    "#将列表中的所有元素加1\n",
    "list_plus_1 = list(map(lambda x:x+1,my_list))\n",
    "print(list_plus_1)\n",
    "\n",
    "list_squared = list(map(lambda x:x**2, my_list))\n",
    "print(list_squared)"
   ]
  },
  {
   "cell_type": "code",
   "execution_count": 38,
   "id": "7c82f201-5bc4-4490-acad-368ebddaee58",
   "metadata": {},
   "outputs": [
    {
     "data": {
      "text/plain": [
       "\u001b[1;31mSignature:\u001b[0m  \u001b[0mstatistics\u001b[0m\u001b[1;33m.\u001b[0m\u001b[0mlinear_regression\u001b[0m\u001b[1;33m(\u001b[0m\u001b[0mx\u001b[0m\u001b[1;33m,\u001b[0m \u001b[0my\u001b[0m\u001b[1;33m,\u001b[0m \u001b[1;33m/\u001b[0m\u001b[1;33m,\u001b[0m \u001b[1;33m*\u001b[0m\u001b[1;33m,\u001b[0m \u001b[0mproportional\u001b[0m\u001b[1;33m=\u001b[0m\u001b[1;32mFalse\u001b[0m\u001b[1;33m)\u001b[0m\u001b[1;33m\u001b[0m\u001b[1;33m\u001b[0m\u001b[0m\n",
       "\u001b[1;31mSource:\u001b[0m   \n",
       "\u001b[1;32mdef\u001b[0m \u001b[0mlinear_regression\u001b[0m\u001b[1;33m(\u001b[0m\u001b[0mx\u001b[0m\u001b[1;33m,\u001b[0m \u001b[0my\u001b[0m\u001b[1;33m,\u001b[0m \u001b[1;33m/\u001b[0m\u001b[1;33m,\u001b[0m \u001b[1;33m*\u001b[0m\u001b[1;33m,\u001b[0m \u001b[0mproportional\u001b[0m\u001b[1;33m=\u001b[0m\u001b[1;32mFalse\u001b[0m\u001b[1;33m)\u001b[0m\u001b[1;33m:\u001b[0m\u001b[1;33m\n",
       "\u001b[0m    \u001b[1;34m\"\"\"Slope and intercept for simple linear regression.\n",
       "\n",
       "    Return the slope and intercept of simple linear regression\n",
       "    parameters estimated using ordinary least squares. Simple linear\n",
       "    regression describes relationship between an independent variable\n",
       "    *x* and a dependent variable *y* in terms of a linear function:\n",
       "\n",
       "        y = slope * x + intercept + noise\n",
       "\n",
       "    where *slope* and *intercept* are the regression parameters that are\n",
       "    estimated, and noise represents the variability of the data that was\n",
       "    not explained by the linear regression (it is equal to the\n",
       "    difference between predicted and actual values of the dependent\n",
       "    variable).\n",
       "\n",
       "    The parameters are returned as a named tuple.\n",
       "\n",
       "    >>> x = [1, 2, 3, 4, 5]\n",
       "    >>> noise = NormalDist().samples(5, seed=42)\n",
       "    >>> y = [3 * x[i] + 2 + noise[i] for i in range(5)]\n",
       "    >>> linear_regression(x, y)  #doctest: +ELLIPSIS\n",
       "    LinearRegression(slope=3.09078914170..., intercept=1.75684970486...)\n",
       "\n",
       "    If *proportional* is true, the independent variable *x* and the\n",
       "    dependent variable *y* are assumed to be directly proportional.\n",
       "    The data is fit to a line passing through the origin.\n",
       "\n",
       "    Since the *intercept* will always be 0.0, the underlying linear\n",
       "    function simplifies to:\n",
       "\n",
       "        y = slope * x + noise\n",
       "\n",
       "    >>> y = [3 * x[i] + noise[i] for i in range(5)]\n",
       "    >>> linear_regression(x, y, proportional=True)  #doctest: +ELLIPSIS\n",
       "    LinearRegression(slope=3.02447542484..., intercept=0.0)\n",
       "\n",
       "    \"\"\"\u001b[0m\u001b[1;33m\n",
       "\u001b[0m    \u001b[0mn\u001b[0m \u001b[1;33m=\u001b[0m \u001b[0mlen\u001b[0m\u001b[1;33m(\u001b[0m\u001b[0mx\u001b[0m\u001b[1;33m)\u001b[0m\u001b[1;33m\n",
       "\u001b[0m    \u001b[1;32mif\u001b[0m \u001b[0mlen\u001b[0m\u001b[1;33m(\u001b[0m\u001b[0my\u001b[0m\u001b[1;33m)\u001b[0m \u001b[1;33m!=\u001b[0m \u001b[0mn\u001b[0m\u001b[1;33m:\u001b[0m\u001b[1;33m\n",
       "\u001b[0m        \u001b[1;32mraise\u001b[0m \u001b[0mStatisticsError\u001b[0m\u001b[1;33m(\u001b[0m\u001b[1;34m'linear regression requires that both inputs have same number of data points'\u001b[0m\u001b[1;33m)\u001b[0m\u001b[1;33m\n",
       "\u001b[0m    \u001b[1;32mif\u001b[0m \u001b[0mn\u001b[0m \u001b[1;33m<\u001b[0m \u001b[1;36m2\u001b[0m\u001b[1;33m:\u001b[0m\u001b[1;33m\n",
       "\u001b[0m        \u001b[1;32mraise\u001b[0m \u001b[0mStatisticsError\u001b[0m\u001b[1;33m(\u001b[0m\u001b[1;34m'linear regression requires at least two data points'\u001b[0m\u001b[1;33m)\u001b[0m\u001b[1;33m\n",
       "\u001b[0m    \u001b[1;32mif\u001b[0m \u001b[0mproportional\u001b[0m\u001b[1;33m:\u001b[0m\u001b[1;33m\n",
       "\u001b[0m        \u001b[0msxy\u001b[0m \u001b[1;33m=\u001b[0m \u001b[0mfsum\u001b[0m\u001b[1;33m(\u001b[0m\u001b[0mxi\u001b[0m \u001b[1;33m*\u001b[0m \u001b[0myi\u001b[0m \u001b[1;32mfor\u001b[0m \u001b[0mxi\u001b[0m\u001b[1;33m,\u001b[0m \u001b[0myi\u001b[0m \u001b[1;32min\u001b[0m \u001b[0mzip\u001b[0m\u001b[1;33m(\u001b[0m\u001b[0mx\u001b[0m\u001b[1;33m,\u001b[0m \u001b[0my\u001b[0m\u001b[1;33m)\u001b[0m\u001b[1;33m)\u001b[0m\u001b[1;33m\n",
       "\u001b[0m        \u001b[0msxx\u001b[0m \u001b[1;33m=\u001b[0m \u001b[0mfsum\u001b[0m\u001b[1;33m(\u001b[0m\u001b[0mxi\u001b[0m \u001b[1;33m*\u001b[0m \u001b[0mxi\u001b[0m \u001b[1;32mfor\u001b[0m \u001b[0mxi\u001b[0m \u001b[1;32min\u001b[0m \u001b[0mx\u001b[0m\u001b[1;33m)\u001b[0m\u001b[1;33m\n",
       "\u001b[0m    \u001b[1;32melse\u001b[0m\u001b[1;33m:\u001b[0m\u001b[1;33m\n",
       "\u001b[0m        \u001b[0mxbar\u001b[0m \u001b[1;33m=\u001b[0m \u001b[0mfsum\u001b[0m\u001b[1;33m(\u001b[0m\u001b[0mx\u001b[0m\u001b[1;33m)\u001b[0m \u001b[1;33m/\u001b[0m \u001b[0mn\u001b[0m\u001b[1;33m\n",
       "\u001b[0m        \u001b[0mybar\u001b[0m \u001b[1;33m=\u001b[0m \u001b[0mfsum\u001b[0m\u001b[1;33m(\u001b[0m\u001b[0my\u001b[0m\u001b[1;33m)\u001b[0m \u001b[1;33m/\u001b[0m \u001b[0mn\u001b[0m\u001b[1;33m\n",
       "\u001b[0m        \u001b[0msxy\u001b[0m \u001b[1;33m=\u001b[0m \u001b[0mfsum\u001b[0m\u001b[1;33m(\u001b[0m\u001b[1;33m(\u001b[0m\u001b[0mxi\u001b[0m \u001b[1;33m-\u001b[0m \u001b[0mxbar\u001b[0m\u001b[1;33m)\u001b[0m \u001b[1;33m*\u001b[0m \u001b[1;33m(\u001b[0m\u001b[0myi\u001b[0m \u001b[1;33m-\u001b[0m \u001b[0mybar\u001b[0m\u001b[1;33m)\u001b[0m \u001b[1;32mfor\u001b[0m \u001b[0mxi\u001b[0m\u001b[1;33m,\u001b[0m \u001b[0myi\u001b[0m \u001b[1;32min\u001b[0m \u001b[0mzip\u001b[0m\u001b[1;33m(\u001b[0m\u001b[0mx\u001b[0m\u001b[1;33m,\u001b[0m \u001b[0my\u001b[0m\u001b[1;33m)\u001b[0m\u001b[1;33m)\u001b[0m\u001b[1;33m\n",
       "\u001b[0m        \u001b[0msxx\u001b[0m \u001b[1;33m=\u001b[0m \u001b[0mfsum\u001b[0m\u001b[1;33m(\u001b[0m\u001b[1;33m(\u001b[0m\u001b[0md\u001b[0m \u001b[1;33m:=\u001b[0m \u001b[0mxi\u001b[0m \u001b[1;33m-\u001b[0m \u001b[0mxbar\u001b[0m\u001b[1;33m)\u001b[0m \u001b[1;33m*\u001b[0m \u001b[0md\u001b[0m \u001b[1;32mfor\u001b[0m \u001b[0mxi\u001b[0m \u001b[1;32min\u001b[0m \u001b[0mx\u001b[0m\u001b[1;33m)\u001b[0m\u001b[1;33m\n",
       "\u001b[0m    \u001b[1;32mtry\u001b[0m\u001b[1;33m:\u001b[0m\u001b[1;33m\n",
       "\u001b[0m        \u001b[0mslope\u001b[0m \u001b[1;33m=\u001b[0m \u001b[0msxy\u001b[0m \u001b[1;33m/\u001b[0m \u001b[0msxx\u001b[0m   \u001b[1;31m# equivalent to:  covariance(x, y) / variance(x)\u001b[0m\u001b[1;33m\n",
       "\u001b[0m    \u001b[1;32mexcept\u001b[0m \u001b[0mZeroDivisionError\u001b[0m\u001b[1;33m:\u001b[0m\u001b[1;33m\n",
       "\u001b[0m        \u001b[1;32mraise\u001b[0m \u001b[0mStatisticsError\u001b[0m\u001b[1;33m(\u001b[0m\u001b[1;34m'x is constant'\u001b[0m\u001b[1;33m)\u001b[0m\u001b[1;33m\n",
       "\u001b[0m    \u001b[0mintercept\u001b[0m \u001b[1;33m=\u001b[0m \u001b[1;36m0.0\u001b[0m \u001b[1;32mif\u001b[0m \u001b[0mproportional\u001b[0m \u001b[1;32melse\u001b[0m \u001b[0mybar\u001b[0m \u001b[1;33m-\u001b[0m \u001b[0mslope\u001b[0m \u001b[1;33m*\u001b[0m \u001b[0mxbar\u001b[0m\u001b[1;33m\n",
       "\u001b[0m    \u001b[1;32mreturn\u001b[0m \u001b[0mLinearRegression\u001b[0m\u001b[1;33m(\u001b[0m\u001b[0mslope\u001b[0m\u001b[1;33m=\u001b[0m\u001b[0mslope\u001b[0m\u001b[1;33m,\u001b[0m \u001b[0mintercept\u001b[0m\u001b[1;33m=\u001b[0m\u001b[0mintercept\u001b[0m\u001b[1;33m)\u001b[0m\u001b[1;33m\u001b[0m\u001b[1;33m\u001b[0m\u001b[0m\n",
       "\u001b[1;31mFile:\u001b[0m      d:\\anaconda2024\\lib\\statistics.py\n",
       "\u001b[1;31mType:\u001b[0m      function"
      ]
     },
     "metadata": {},
     "output_type": "display_data"
    }
   ],
   "source": [
    "import statistics\n",
    "?? statistics.linear_regression"
   ]
  },
  {
   "cell_type": "code",
   "execution_count": 39,
   "id": "f1378e56-07e1-440b-acc9-e67b458d25b0",
   "metadata": {},
   "outputs": [
    {
     "data": {
      "text/plain": [
       "\u001b[1;31mSignature:\u001b[0m  \u001b[0mstatistics\u001b[0m\u001b[1;33m.\u001b[0m\u001b[0mvariance\u001b[0m\u001b[1;33m(\u001b[0m\u001b[0mdata\u001b[0m\u001b[1;33m,\u001b[0m \u001b[0mxbar\u001b[0m\u001b[1;33m=\u001b[0m\u001b[1;32mNone\u001b[0m\u001b[1;33m)\u001b[0m\u001b[1;33m\u001b[0m\u001b[1;33m\u001b[0m\u001b[0m\n",
       "\u001b[1;31mSource:\u001b[0m   \n",
       "\u001b[1;32mdef\u001b[0m \u001b[0mvariance\u001b[0m\u001b[1;33m(\u001b[0m\u001b[0mdata\u001b[0m\u001b[1;33m,\u001b[0m \u001b[0mxbar\u001b[0m\u001b[1;33m=\u001b[0m\u001b[1;32mNone\u001b[0m\u001b[1;33m)\u001b[0m\u001b[1;33m:\u001b[0m\u001b[1;33m\n",
       "\u001b[0m    \u001b[1;34m\"\"\"Return the sample variance of data.\n",
       "\n",
       "    data should be an iterable of Real-valued numbers, with at least two\n",
       "    values. The optional argument xbar, if given, should be the mean of\n",
       "    the data. If it is missing or None, the mean is automatically calculated.\n",
       "\n",
       "    Use this function when your data is a sample from a population. To\n",
       "    calculate the variance from the entire population, see ``pvariance``.\n",
       "\n",
       "    Examples:\n",
       "\n",
       "    >>> data = [2.75, 1.75, 1.25, 0.25, 0.5, 1.25, 3.5]\n",
       "    >>> variance(data)\n",
       "    1.3720238095238095\n",
       "\n",
       "    If you have already calculated the mean of your data, you can pass it as\n",
       "    the optional second argument ``xbar`` to avoid recalculating it:\n",
       "\n",
       "    >>> m = mean(data)\n",
       "    >>> variance(data, m)\n",
       "    1.3720238095238095\n",
       "\n",
       "    This function does not check that ``xbar`` is actually the mean of\n",
       "    ``data``. Giving arbitrary values for ``xbar`` may lead to invalid or\n",
       "    impossible results.\n",
       "\n",
       "    Decimals and Fractions are supported:\n",
       "\n",
       "    >>> from decimal import Decimal as D\n",
       "    >>> variance([D(\"27.5\"), D(\"30.25\"), D(\"30.25\"), D(\"34.5\"), D(\"41.75\")])\n",
       "    Decimal('31.01875')\n",
       "\n",
       "    >>> from fractions import Fraction as F\n",
       "    >>> variance([F(1, 6), F(1, 2), F(5, 3)])\n",
       "    Fraction(67, 108)\n",
       "\n",
       "    \"\"\"\u001b[0m\u001b[1;33m\n",
       "\u001b[0m    \u001b[0mT\u001b[0m\u001b[1;33m,\u001b[0m \u001b[0mss\u001b[0m\u001b[1;33m,\u001b[0m \u001b[0mc\u001b[0m\u001b[1;33m,\u001b[0m \u001b[0mn\u001b[0m \u001b[1;33m=\u001b[0m \u001b[0m_ss\u001b[0m\u001b[1;33m(\u001b[0m\u001b[0mdata\u001b[0m\u001b[1;33m,\u001b[0m \u001b[0mxbar\u001b[0m\u001b[1;33m)\u001b[0m\u001b[1;33m\n",
       "\u001b[0m    \u001b[1;32mif\u001b[0m \u001b[0mn\u001b[0m \u001b[1;33m<\u001b[0m \u001b[1;36m2\u001b[0m\u001b[1;33m:\u001b[0m\u001b[1;33m\n",
       "\u001b[0m        \u001b[1;32mraise\u001b[0m \u001b[0mStatisticsError\u001b[0m\u001b[1;33m(\u001b[0m\u001b[1;34m'variance requires at least two data points'\u001b[0m\u001b[1;33m)\u001b[0m\u001b[1;33m\n",
       "\u001b[0m    \u001b[1;32mreturn\u001b[0m \u001b[0m_convert\u001b[0m\u001b[1;33m(\u001b[0m\u001b[0mss\u001b[0m \u001b[1;33m/\u001b[0m \u001b[1;33m(\u001b[0m\u001b[0mn\u001b[0m \u001b[1;33m-\u001b[0m \u001b[1;36m1\u001b[0m\u001b[1;33m)\u001b[0m\u001b[1;33m,\u001b[0m \u001b[0mT\u001b[0m\u001b[1;33m)\u001b[0m\u001b[1;33m\u001b[0m\u001b[1;33m\u001b[0m\u001b[0m\n",
       "\u001b[1;31mFile:\u001b[0m      d:\\anaconda2024\\lib\\statistics.py\n",
       "\u001b[1;31mType:\u001b[0m      function"
      ]
     },
     "metadata": {},
     "output_type": "display_data"
    }
   ],
   "source": [
    "import statistics\n",
    "?? statistics.variance"
   ]
  },
  {
   "cell_type": "markdown",
   "id": "836aaed4-48f6-4a84-92c3-7fac66d90fef",
   "metadata": {
    "jp-MarkdownHeadingCollapsed": true
   },
   "source": [
    "### Ch_09(1-)-Python面向对象编程"
   ]
  },
  {
   "cell_type": "code",
   "execution_count": null,
   "id": "ec06bf58-5553-4d6c-a332-9c6b30430694",
   "metadata": {},
   "outputs": [],
   "source": [
    "class Rectangle:\n",
    "    def __init__(self,width,height):\n",
    "        self.width = width\n",
    "        self.height = height\n",
    "    def circumference(self):\n",
    "        return 2*(self.width + self.height)\n",
    "    def area(self):\n",
    "        return self.height*self.width\n",
    "calcu_1 = Rectangle(5,10)\n",
    "print(calcu_1.width)\n",
    "print(calcu_1.circumference())\n"
   ]
  },
  {
   "cell_type": "code",
   "execution_count": 51,
   "id": "f0dbc74b-b2e6-4e51-81d0-d5ca3582ddf7",
   "metadata": {},
   "outputs": [
    {
     "name": "stdout",
     "output_type": "stream",
     "text": [
      "jiji\n"
     ]
    }
   ],
   "source": [
    "class Chicken:\n",
    "    def __init__(self,name,age,color,weight):\n",
    "    #初始化对象\n",
    "        self.name = name\n",
    "        self.age = age\n",
    "        self.color = color\n",
    "        self.weight = weight\n",
    "Chicken01 = Chicken('jiji',2,'yellow',1)\n",
    "print(Chicken01.name)"
   ]
  },
  {
   "cell_type": "code",
   "execution_count": 53,
   "id": "a600793b-3911-4d28-95b1-b19722fa0cda",
   "metadata": {},
   "outputs": [
    {
     "name": "stdout",
     "output_type": "stream",
     "text": [
      "yellow\n"
     ]
    }
   ],
   "source": [
    "class Chicken:\n",
    "    def __init__(self,name,age,color = 'yellow',weight = 2):\n",
    "    #初始化对象\n",
    "        self.name = name\n",
    "        self.age = age\n",
    "        self.color = color\n",
    "        self.weight = weight\n",
    "Chicken01 = Chicken('jijiji',12)\n",
    "print(Chicken01.color)"
   ]
  },
  {
   "cell_type": "code",
   "execution_count": 54,
   "id": "ce72c137-6f06-4da2-829b-a5b3095923ba",
   "metadata": {},
   "outputs": [
    {
     "name": "stdout",
     "output_type": "stream",
     "text": [
      "12\n"
     ]
    }
   ],
   "source": [
    "class Chicken:\n",
    "    def __init__(self):\n",
    "    #初始化对象\n",
    "        self.name = ''\n",
    "        self.age = ''\n",
    "        self.color = ''\n",
    "        self.weight = ''\n",
    "Chicken01 = Chicken()\n",
    "Chicken01.age = 12\n",
    "print(Chicken01.age)"
   ]
  },
  {
   "cell_type": "code",
   "execution_count": 58,
   "id": "0c14169e-80fc-4776-ba67-1a0d2a665322",
   "metadata": {},
   "outputs": [
    {
     "name": "stdout",
     "output_type": "stream",
     "text": [
      "bage is jumping\n",
      "bage\n"
     ]
    }
   ],
   "source": [
    "#父类，动物\n",
    "class Animal:\n",
    "    def __init__(self,name,age):\n",
    "        self.name = name\n",
    "        self.age = age\n",
    "    def eat(self):\n",
    "        print(f\"{self.name} is eating\")\n",
    "    def sleep(self):\n",
    "        print(f\"{self.name} is sleeping\")\n",
    "#子类，鸡\n",
    "class Chicken(Animal):\n",
    "    def __init__(self,name,age,color):\n",
    "        super().__init(name,age)  #通过super().__init()来调用父类的构造方法\n",
    "    def lay_egg(self):\n",
    "        print(f\"{self.name} is laying an egg\")\n",
    "#子类，兔子\n",
    "class Rabbit(Animal):\n",
    "    def __init__(self,name,age,speed):\n",
    "        super().__init__(name,age)\n",
    "        self.speed = speed\n",
    "    def jump(self):\n",
    "        print(f\"{self.name} is jumping\")\n",
    "Rabbit_01 = Rabbit('bage', 2, 30)\n",
    "Rabbit_01.jump()\n",
    "print(Rabbit_01.name)"
   ]
  },
  {
   "cell_type": "markdown",
   "id": "d24fdf2b-e67f-48e4-8611-9cc33107b387",
   "metadata": {},
   "source": [
    "### Ch_10(1-)-Python可视化"
   ]
  },
  {
   "cell_type": "code",
   "execution_count": 33,
   "id": "08e8f77e-0157-4b37-aec8-e0070f46ea26",
   "metadata": {},
   "outputs": [
    {
     "data": {
      "image/png": "[encoded data removed]",
      "text/plain": [
       "<Figure size 800x600 with 2 Axes>"
      ]
     },
     "metadata": {},
     "output_type": "display_data"
    }
   ],
   "source": [
    "import numpy as np\n",
    "import matplotlib.pyplot as plt\n",
    "\n",
    "x_array = np.linspace(-2*np.pi, 2*np.pi, 200)\n",
    "sin_y = np.sin(x_array)\n",
    "cos_y = np.cos(x_array)\n",
    "\n",
    "fig, (ax_1,ax_2) = plt.subplots(1,2,sharex = False, sharey = True, figsize=(8,6))\n",
    "ax_1.plot(x_array, sin_y, label = 'sin',  color = 'b', linewidth = 2)\n",
    "ax_2.plot(x_array, cos_y, label = 'cos',  color = 'r', linewidth = 2)\n",
    "\n",
    "ax_1.set_title('sine function')\n",
    "ax_1.set_xlabel('x')\n",
    "ax_1.set_ylabel('sin(x)')\n",
    "ax_1.legend()\n",
    "ax_1.set_xlim(-2*np.pi,2*np.pi)\n",
    "ax_1.set_ylim(-1.5,1.5)\n",
    "x_ticks = np.arange(-2*np.pi, 2*np.pi+np.pi/2, np.pi/2) #设置横轴标签和刻度标签\n",
    "x_ticklabels = [r'$-2\\pi$', r'$-\\frac{3\\pi}{2}$', r'$-\\pi$', r'$-\\frac{\\pi}{2}$', r'$0$', r'$\\frac{\\pi}{2}$', r'$\\pi$', r'$\\frac{3\\pi}{2}$', r'$2\\pi$']\n",
    "ax_1.set_xticks(x_ticks)\n",
    "ax_1.set_xticklabels(x_ticklabels)\n",
    "ax_1.set_aspect('equal')\n",
    "\n",
    "\n",
    "ax_2.set_title('cosine function')\n",
    "ax_2.set_xlabel('x')\n",
    "ax_2.set_ylabel('cos(x)')\n",
    "ax_2.legend()\n",
    "ax_2.set_xlim(-2*np.pi,2*np.pi)\n",
    "ax_2.set_ylim(-1.5,1.5)\n",
    "x_ticks = np.arange(-2*np.pi, 2*np.pi+np.pi/2, np.pi/2) #设置横轴标签和刻度标签\n",
    "x_ticklabels = [r'$-2\\pi$', r'$-\\frac{3\\pi}{2}$', r'$-\\pi$', r'$-\\frac{\\pi}{2}$', r'$0$', r'$\\frac{\\pi}{2}$', r'$\\pi$', r'$\\frac{3\\pi}{2}$', r'$2\\pi$']\n",
    "ax_2.set_xticks(x_ticks)\n",
    "ax_2.set_xticklabels(x_ticklabels)\n",
    "ax_2.set_aspect('equal')\n",
    "\n",
    "ax_1.grid()\n",
    "ax_2.grid()\n",
    "plt.savefig('正余弦函数曲线.svg', format='svg')\n",
    "plt.show()"
   ]
  },
  {
   "cell_type": "code",
   "execution_count": null,
   "id": "fc3db8f4-30b7-4532-9bcb-df50598e5a3c",
   "metadata": {},
   "outputs": [],
   "source": []
  }
 ],
 "metadata": {
  "kernelspec": {
   "display_name": "Python 3 (ipykernel)",
   "language": "python",
   "name": "python3"
  },
  "language_info": {
   "codemirror_mode": {
    "name": "ipython",
    "version": 3
   },
   "file_extension": ".py",
   "mimetype": "text/x-python",
   "name": "python",
   "nbconvert_exporter": "python",
   "pygments_lexer": "ipython3",
   "version": "3.11.7"
  }
 },
 "nbformat": 4,
 "nbformat_minor": 5
}
